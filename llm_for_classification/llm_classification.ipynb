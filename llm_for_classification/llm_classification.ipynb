{
 "cells": [
  {
   "cell_type": "code",
   "execution_count": 29,
   "metadata": {},
   "outputs": [],
   "source": [
    "import instructor\n",
    "from pydantic import BaseModel, Field\n",
    "from openai import OpenAI\n",
    "from enum import Enum\n",
    "from typing import List\n",
    "from openai import AzureOpenAI"
   ]
  },
  {
   "cell_type": "code",
   "execution_count": 30,
   "metadata": {},
   "outputs": [],
   "source": [
    "def build_models():\n",
    "    from openai import AzureOpenAI\n",
    "\n",
    "    client = AzureOpenAI(\n",
    "      api_key = \"48ed1b0e5e8c4addac3156228ec6e61f\",\n",
    "      api_version = \"2024-02-01\",\n",
    "      azure_endpoint = \"https://blr-gpt-6.openai.azure.com/\"\n",
    "    )\n",
    "    return client"
   ]
  },
  {
   "cell_type": "code",
   "execution_count": 31,
   "metadata": {},
   "outputs": [],
   "source": [
    "ticket1 = \"\"\"\n",
    "I ordered a laptop from your store last week (Order #12345), but I received a tablet instead. \n",
    "This is unacceptable! I need the laptop for work urgently. Please resolve this immediately or I'll have to dispute the charge.\n",
    "\"\"\"\n",
    "\n",
    "ticket2 = \"\"\"\n",
    "Hello, I'm having trouble logging into my account. I've tried resetting my password, but I'm not receiving the reset email. \n",
    "Can you please help me regain access to my account? I've been a loyal customer for years and have several pending orders.\n",
    "\"\"\""
   ]
  },
  {
   "cell_type": "code",
   "execution_count": 32,
   "metadata": {},
   "outputs": [],
   "source": [
    "client = build_models()\n"
   ]
  },
  {
   "cell_type": "code",
   "execution_count": 42,
   "metadata": {},
   "outputs": [],
   "source": [
    "def classify_ticket_simple(ticket_text: str) -> str:\n",
    "    response = client.chat.completions.create(\n",
    "        model=\"gpt-4o\",\n",
    "        temperature=0,\n",
    "        messages=[\n",
    "            {\"role\": \"system\", \"content\": \"Classify the following customer support ticket into a category.\"},\n",
    "            {\"role\": \"user\", \"content\": ticket_text}\n",
    "        ]\n",
    "    )\n",
    "    return response.choices[0].message.content"
   ]
  },
  {
   "cell_type": "code",
   "execution_count": 43,
   "metadata": {},
   "outputs": [
    {
     "name": "stdout",
     "output_type": "stream",
     "text": [
      "Category: Order Issues\n"
     ]
    }
   ],
   "source": [
    "result = classify_ticket_simple(ticket1)\n",
    "print(result)"
   ]
  },
  {
   "cell_type": "code",
   "execution_count": 44,
   "metadata": {},
   "outputs": [
    {
     "data": {
      "text/plain": [
       "'\\nDrawbacks of this approach:\\n1. No structured output, making it difficult to integrate into automated systems\\n2. No validation of the output, potentially leading to inconsistent categorizations\\n3. Limited information extracted, missing important details for prioritization\\n4. No confidence score, making it hard to flag uncertain classifications for human review\\n'"
      ]
     },
     "execution_count": 44,
     "metadata": {},
     "output_type": "execute_result"
    }
   ],
   "source": [
    "\"\"\"\n",
    "Drawbacks of this approach:\n",
    "1. No structured output, making it difficult to integrate into automated systems\n",
    "2. No validation of the output, potentially leading to inconsistent categorizations\n",
    "3. Limited information extracted, missing important details for prioritization\n",
    "4. No confidence score, making it hard to flag uncertain classifications for human review\n",
    "\"\"\""
   ]
  },
  {
   "cell_type": "code",
   "execution_count": 45,
   "metadata": {},
   "outputs": [
    {
     "data": {
      "text/plain": [
       "'\\nObjective: Develop an AI-powered ticket classification system that:\\n- Accurately categorizes customer support tickets\\n- Assesses the urgency and sentiment of each ticket\\n- Extracts key information for quick resolution\\n- Provides confidence scores to flag uncertain cases for human review\\nBusiness impact:\\n- Reduce average response time by routing tickets to the right department\\n- Improve customer satisfaction by prioritizing urgent and negative sentiment tickets\\n- Increase efficiency by providing agents with key information upfront\\n- Optimize workforce allocation by automating routine classifications\\n'"
      ]
     },
     "execution_count": 45,
     "metadata": {},
     "output_type": "execute_result"
    }
   ],
   "source": [
    "\"\"\"\n",
    "Objective: Develop an AI-powered ticket classification system that:\n",
    "- Accurately categorizes customer support tickets\n",
    "- Assesses the urgency and sentiment of each ticket\n",
    "- Extracts key information for quick resolution\n",
    "- Provides confidence scores to flag uncertain cases for human review\n",
    "Business impact:\n",
    "- Reduce average response time by routing tickets to the right department\n",
    "- Improve customer satisfaction by prioritizing urgent and negative sentiment tickets\n",
    "- Increase efficiency by providing agents with key information upfront\n",
    "- Optimize workforce allocation by automating routine classifications\n",
    "\"\"\""
   ]
  },
  {
   "cell_type": "code",
   "execution_count": 46,
   "metadata": {},
   "outputs": [],
   "source": [
    "client = instructor.patch(build_models())"
   ]
  },
  {
   "cell_type": "code",
   "execution_count": 47,
   "metadata": {},
   "outputs": [],
   "source": [
    "class TicketCategory(str, Enum):\n",
    "    ORDER_ISSUE = \"order_issue\"\n",
    "    ACCOUNT_ACCESS = \"account_access\"\n",
    "    PRODUCT_INQUIRY = \"product_inquiry\"\n",
    "    TECHNICAL_SUPPORT = \"technical_support\"\n",
    "    BILLING = \"billing\"\n",
    "    OTHER = \"other\""
   ]
  },
  {
   "cell_type": "code",
   "execution_count": 48,
   "metadata": {},
   "outputs": [],
   "source": [
    "class CustomerSentiment(str, Enum):\n",
    "    ANGRY = \"angry\"\n",
    "    FRUSTRATED = \"frustrated\"\n",
    "    NEUTRAL = \"neutral\"\n",
    "    SATISFIED = \"satisfied\""
   ]
  },
  {
   "cell_type": "code",
   "execution_count": 49,
   "metadata": {},
   "outputs": [],
   "source": [
    "class TicketUrgency(str, Enum):\n",
    "    LOW = \"low\"\n",
    "    MEDIUM = \"medium\"\n",
    "    HIGH = \"high\"\n",
    "    CRITICAL = \"critical\""
   ]
  },
  {
   "cell_type": "code",
   "execution_count": 50,
   "metadata": {},
   "outputs": [],
   "source": [
    "class TicketClassification(BaseModel):\n",
    "    category: TicketCategory\n",
    "    urgency: TicketUrgency\n",
    "    sentiment: CustomerSentiment\n",
    "    confidence: float = Field(ge=0, le=1, description=\"Confidence score for the classification\")\n",
    "    key_information: List[str] = Field(description=\"List of key points extracted from the ticket\")\n",
    "    suggested_action: str = Field(description=\"Brief suggestion for handling the ticket\")\n"
   ]
  },
  {
   "cell_type": "code",
   "execution_count": 51,
   "metadata": {},
   "outputs": [],
   "source": [
    "{\n",
    "    'category': 'order_issue',\n",
    "    'urgency': 'high',\n",
    "    'sentiment': 'angry',\n",
    "    'confidence': 0.9,\n",
    "    'key_information': ['Customer received a tablet instead of a laptop', 'Order #12345 was placed last week', 'Laptop is needed urgently for work'],\n",
    "    'suggested_action': 'Verify the order and ship the correct item to the customer as soon as possible'\n",
    "}\n",
    "\n",
    "ticket_classification = TicketClassification(\n",
    "    category=TicketCategory.ORDER_ISSUE,\n",
    "    urgency=TicketUrgency.HIGH,\n",
    "    sentiment=CustomerSentiment.ANGRY,\n",
    "    confidence=0.9,\n",
    "    key_information=[\"Order #12345\", \"Received tablet instead of laptop\"],\n",
    "    suggested_action=\"Contact customer to arrange laptop delivery\"\n",
    ")"
   ]
  },
  {
   "cell_type": "code",
   "execution_count": 52,
   "metadata": {},
   "outputs": [
    {
     "data": {
      "text/plain": [
       "TicketClassification(category=<TicketCategory.ORDER_ISSUE: 'order_issue'>, urgency=<TicketUrgency.HIGH: 'high'>, sentiment=<CustomerSentiment.ANGRY: 'angry'>, confidence=0.9, key_information=['Order #12345', 'Received tablet instead of laptop'], suggested_action='Contact customer to arrange laptop delivery')"
      ]
     },
     "execution_count": 52,
     "metadata": {},
     "output_type": "execute_result"
    }
   ],
   "source": [
    "ticket_classification"
   ]
  },
  {
   "cell_type": "code",
   "execution_count": 53,
   "metadata": {},
   "outputs": [],
   "source": [
    "def classify_ticket(ticket_text: str) -> TicketClassification:\n",
    "    response = client.chat.completions.create(\n",
    "        model=\"gpt-4o\",\n",
    "        response_model=TicketClassification,\n",
    "        temperature=0,\n",
    "        max_retries=3,\n",
    "        messages=[\n",
    "            {\n",
    "                \"role\": \"system\",\n",
    "                \"content\": \"Analyze the following customer support ticket and extract the requested information.\"\n",
    "            },\n",
    "            {\"role\": \"user\", \"content\": ticket_text}\n",
    "        ]\n",
    "    )\n",
    "    return response"
   ]
  },
  {
   "cell_type": "code",
   "execution_count": 54,
   "metadata": {},
   "outputs": [],
   "source": [
    "result1 = classify_ticket(ticket1)\n",
    "result2 = classify_ticket(ticket2)"
   ]
  },
  {
   "cell_type": "code",
   "execution_count": 55,
   "metadata": {},
   "outputs": [
    {
     "name": "stdout",
     "output_type": "stream",
     "text": [
      "{\n",
      "  \"category\": \"order_issue\",\n",
      "  \"urgency\": \"critical\",\n",
      "  \"sentiment\": \"angry\",\n",
      "  \"confidence\": 0.95,\n",
      "  \"key_information\": [\n",
      "    \"Customer ordered a laptop (Order #12345) but received a tablet instead\",\n",
      "    \"Customer needs the laptop urgently for work\",\n",
      "    \"Customer is considering disputing the charge\"\n",
      "  ],\n",
      "  \"suggested_action\": \"Apologize to the customer for the inconvenience, prioritize the correct shipment of the laptop, and provide a return label for the tablet. Consider offering a discount or expedited shipping as a goodwill gesture.\"\n",
      "}\n",
      "\n",
      "\n",
      "\n",
      "\n",
      "\n",
      "{\n",
      "  \"category\": \"account_access\",\n",
      "  \"urgency\": \"high\",\n",
      "  \"sentiment\": \"frustrated\",\n",
      "  \"confidence\": 0.9,\n",
      "  \"key_information\": [\n",
      "    \"Customer is unable to log into their account.\",\n",
      "    \"Password reset email not received.\",\n",
      "    \"Customer has several pending orders.\",\n",
      "    \"Customer has been a loyal customer for years.\"\n",
      "  ],\n",
      "  \"suggested_action\": \"Verify the customer's email address and check the email server logs for any issues. Assist the customer in resetting their password and regaining access to their account.\"\n",
      "}\n"
     ]
    }
   ],
   "source": [
    "print(result1.model_dump_json(indent=2))\n",
    "print(\"\\n\\n\\n\\n\")\n",
    "print(result2.model_dump_json(indent=2))"
   ]
  },
  {
   "cell_type": "code",
   "execution_count": null,
   "metadata": {},
   "outputs": [],
   "source": []
  }
 ],
 "metadata": {
  "kernelspec": {
   "display_name": "venv_agentic_ai_uat",
   "language": "python",
   "name": "python3"
  },
  "language_info": {
   "codemirror_mode": {
    "name": "ipython",
    "version": 3
   },
   "file_extension": ".py",
   "mimetype": "text/x-python",
   "name": "python",
   "nbconvert_exporter": "python",
   "pygments_lexer": "ipython3",
   "version": "3.12.3"
  }
 },
 "nbformat": 4,
 "nbformat_minor": 2
}
