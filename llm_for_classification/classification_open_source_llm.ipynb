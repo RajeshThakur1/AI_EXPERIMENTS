{
 "cells": [
  {
   "cell_type": "code",
   "execution_count": 9,
   "metadata": {},
   "outputs": [],
   "source": [
    "import json\n",
    "from enum import Enum\n",
    "from typing import List\n",
    "from pydantic import BaseModel, Field\n",
    "import ollama\n",
    "import re\n",
    "from typing import Dict, Any"
   ]
  },
  {
   "cell_type": "code",
   "execution_count": 10,
   "metadata": {},
   "outputs": [],
   "source": [
    "\n",
    "class TicketCategory(str, Enum):\n",
    "    ORDER_ISSUE = \"order_issue\"\n",
    "    ACCOUNT_ACCESS = \"account_access\"\n",
    "    PRODUCT_INQUIRY = \"product_inquiry\"\n",
    "    TECHNICAL_SUPPORT = \"technical_support\"\n",
    "    BILLING = \"billing\"\n",
    "    OTHER = \"other\"\n",
    "\n",
    "class CustomerSentiment(str, Enum):\n",
    "    ANGRY = \"angry\"\n",
    "    FRUSTRATED = \"frustrated\"\n",
    "    NEUTRAL = \"neutral\"\n",
    "    SATISFIED = \"satisfied\"\n",
    "\n",
    "class TicketUrgency(str, Enum):\n",
    "    LOW = \"low\"\n",
    "    MEDIUM = \"medium\"\n",
    "    HIGH = \"high\"\n",
    "    CRITICAL = \"critical\""
   ]
  },
  {
   "cell_type": "code",
   "execution_count": 11,
   "metadata": {},
   "outputs": [],
   "source": [
    "class TicketClassification(BaseModel):\n",
    "    category: TicketCategory\n",
    "    urgency: TicketUrgency\n",
    "    sentiment: CustomerSentiment\n",
    "    confidence: float = Field(ge=0, le=1, description=\"Confidence score for the classification\")\n",
    "    key_information: List[str] = Field(description=\"List of key points extracted from the ticket\")\n",
    "    suggested_action: str = Field(description=\"Brief suggestion for handling the ticket\")\n"
   ]
  },
  {
   "cell_type": "code",
   "execution_count": 12,
   "metadata": {},
   "outputs": [],
   "source": [
    "def preprocess_json(json_string: str) -> str:\n",
    "    # Remove any text before the first '{' and after the last '}'\n",
    "    json_string = re.sub(r'^[^{]*', '', json_string)\n",
    "    json_string = re.sub(r'[^}]*$', '', json_string)\n",
    "\n",
    "    # Replace single quotes with double quotes\n",
    "    json_string = json_string.replace(\"'\", '\"')\n",
    "\n",
    "    # Remove any trailing commas before closing braces or brackets\n",
    "    json_string = re.sub(r',\\s*([\\]}])', r'\\1', json_string)\n",
    "\n",
    "    return json_string"
   ]
  },
  {
   "cell_type": "code",
   "execution_count": 13,
   "metadata": {},
   "outputs": [],
   "source": [
    "def parse_json_safely(json_string: str) -> Dict[str, Any]:\n",
    "    try:\n",
    "        return json.loads(json_string)\n",
    "    except json.JSONDecodeError:\n",
    "        # If standard JSON parsing fails, try a more lenient approach\n",
    "        import ast\n",
    "        return ast.literal_eval(json_string)"
   ]
  },
  {
   "cell_type": "code",
   "execution_count": 14,
   "metadata": {},
   "outputs": [],
   "source": [
    "def classify_ticket(ticket_text: str, max_retries: int = 3) -> TicketClassification:\n",
    "    prompt = f\"\"\"\n",
    "    Analyze the following customer support ticket and provide a classification in JSON format:\n",
    "\n",
    "    Ticket: {ticket_text}\n",
    "\n",
    "    Respond with a JSON object containing ONLY the following fields:\n",
    "    {{\n",
    "        \"category\": \"order_issue\" | \"account_access\" | \"product_inquiry\" | \"technical_support\" | \"billing\" | \"other\",\n",
    "        \"urgency\": \"low\" | \"medium\" | \"high\" | \"critical\",\n",
    "        \"sentiment\": \"angry\" | \"frustrated\" | \"neutral\" | \"satisfied\",\n",
    "        \"confidence\": <float between 0 and 1>,\n",
    "        \"key_information\": [<list of key points as strings>],\n",
    "        \"suggested_action\": \"<brief suggestion for handling the ticket>\"\n",
    "    }}\n",
    "\n",
    "    Ensure the response is a valid JSON object. Do not include any additional text or explanations.\n",
    "    \"\"\"\n",
    "\n",
    "    for attempt in range(max_retries):\n",
    "        try:\n",
    "            response = ollama.chat(model='llama3:latest', messages=[\n",
    "                {'role': 'system', 'content': 'You are a helpful assistant that analyzes customer support tickets.'},\n",
    "                {'role': 'user', 'content': prompt}\n",
    "            ])\n",
    "\n",
    "            preprocessed_content = preprocess_json(response['message']['content'])\n",
    "            classification_dict = parse_json_safely(preprocessed_content)\n",
    "            return TicketClassification(**classification_dict)\n",
    "        except (json.JSONDecodeError, ValueError, KeyError) as e:\n",
    "            if attempt == max_retries - 1:\n",
    "                raise ValueError(f\"Failed to parse response after {max_retries} attempts: {str(e)}\")\n",
    "            continue\n",
    "\n",
    "    raise ValueError(\"Unexpected error in classification process\")"
   ]
  },
  {
   "cell_type": "code",
   "execution_count": 17,
   "metadata": {},
   "outputs": [],
   "source": [
    "ticket1 = \"\"\"\n",
    "I ordered a laptop from your store last week (Order #12345), but I received a tablet instead. \n",
    "This is unacceptable! I need the laptop for work urgently. Please resolve this immediately or I'll have to dispute the charge.\n",
    "\"\"\"\n",
    "\n",
    "ticket2 = \"\"\"\n",
    "Hello, I'm having trouble logging into my account. I've tried resetting my password, but I'm not receiving the reset email. \n",
    "Can you please help me regain access to my account? I've been a loyal customer for years and have several pending orders.\n",
    "\"\"\""
   ]
  },
  {
   "cell_type": "code",
   "execution_count": 18,
   "metadata": {},
   "outputs": [],
   "source": [
    "classification = classify_ticket(ticket1)"
   ]
  },
  {
   "cell_type": "code",
   "execution_count": 19,
   "metadata": {},
   "outputs": [
    {
     "data": {
      "text/plain": [
       "TicketClassification(category=<TicketCategory.ORDER_ISSUE: 'order_issue'>, urgency=<TicketUrgency.HIGH: 'high'>, sentiment=<CustomerSentiment.ANGRY: 'angry'>, confidence=0.9, key_information=['Order #12345', 'Received tablet instead of laptop', 'Urgent need for laptop'], suggested_action='Resolve the order discrepancy and expedite shipping or offer a replacement')"
      ]
     },
     "execution_count": 19,
     "metadata": {},
     "output_type": "execute_result"
    }
   ],
   "source": [
    "classification"
   ]
  },
  {
   "cell_type": "code",
   "execution_count": null,
   "metadata": {},
   "outputs": [],
   "source": []
  }
 ],
 "metadata": {
  "kernelspec": {
   "display_name": "venv_agentic_ai_uat",
   "language": "python",
   "name": "python3"
  },
  "language_info": {
   "codemirror_mode": {
    "name": "ipython",
    "version": 3
   },
   "file_extension": ".py",
   "mimetype": "text/x-python",
   "name": "python",
   "nbconvert_exporter": "python",
   "pygments_lexer": "ipython3",
   "version": "3.12.3"
  }
 },
 "nbformat": 4,
 "nbformat_minor": 2
}
